{
 "cells": [
  {
   "cell_type": "markdown",
   "id": "5a7f87c2-bd6b-4c87-9eb4-ce7deb17b689",
   "metadata": {},
   "source": [
    "PREDICTING HOUSE PRICES"
   ]
  },
  {
   "cell_type": "markdown",
   "id": "cb8e70b4-d779-48c0-97c0-dafa076199a9",
   "metadata": {},
   "source": [
    "1. Clean your data\n",
    "    - Remove outliers\n",
    "    - Drop unnecessary columns: those with more than half null values\n",
    "    - Check for leakage, high cardinality and multicollinearity\n",
    "2. Slplit your data\n",
    "    - Feature matrix: X_train\n",
    "    - Target vector: y_train\n",
    "3. Dumb model\n",
    "    - Create a baseline model (using mean)\n",
    "    - Find `mean_absolute_error` for the baseline model\n",
    "4. Automation `make_pipeline`\n",
    "    - Encode categorical variable `OneHotEncoder`\n",
    "    - Impute missing values `SimpleImputer`\n",
    "    - Build your model `LinearRegression` or `Ridge`\n",
    "    - Fit your model to training data\n",
    "5. Evaluation\n",
    "    - Use your model to make predictions `model.predict(X_train)`\n",
    "    - Calculate the training mean_absolute_error\n",
    "    - Compare with baseline mean_absolute_error\n",
    "6. Test\n",
    "    - Test your model with new data: does it generalize? Does it beat the baseline?\n",
    "7. Communicate results\n",
    "    - Make a function\n",
    "    - Create an interactive dashboard"
   ]
  },
  {
   "cell_type": "code",
   "execution_count": 1,
   "id": "130a4456-cb20-40d0-8039-c4fb0d257362",
   "metadata": {},
   "outputs": [],
   "source": [
    "# imports\n",
    "from glob import glob\n",
    "import numpy as np\n",
    "import pandas as pd\n",
    "import matplotlib.pyplot as plt\n",
    "import plotly.express as px\n",
    "import seaborn as sns\n",
    "from ipywidgets import Dropdown, FloatSlider, IntSlider, interact\n",
    "from category_encoders import OneHotEncoder\n",
    "from sklearn.impute import SimpleImputer\n",
    "from sklearn.linear_model import LinearRegression, Ridge\n",
    "from sklearn.metrics import mean_absolute_error\n",
    "from sklearn.pipeline import Pipeline, make_pipeline"
   ]
  },
  {
   "cell_type": "code",
   "execution_count": 2,
   "id": "af7ed960-a3ff-40bc-996c-1bdd9225504c",
   "metadata": {},
   "outputs": [],
   "source": [
    "# Create a function to automate the cleaning process\n",
    "def dataWrangle(filePath):\n",
    "    \"\"\"Function takes file path and returns a dataframe\n",
    "    Args\n",
    "    -----\n",
    "    filePath: csv\n",
    "    \n",
    "    Return: DataFrame\"\"\"\n",
    "    # Read in file\n",
    "    df = pd.read_csv(filePath)\n",
    "\n",
    "    # Format the data\n",
    "        # Extract states\n",
    "    df[\"state\"] = df[\"place_with_parent_names\"].str.split(\"|\", expand=True)[2]\n",
    "    df[\"neighborhood\"] = (df[\"place_with_parent_names\"]\n",
    "                   .str.split(\"|\", expand=True)[3])\n",
    "        # Extract coordinates\n",
    "    df[[\"lat\", \"lon\"]] = df[\"lat-lon\"].str.split(\",\", expand=True)\n",
    "        # Recast the type of some columns\n",
    "    df[[\"lat\", \"lon\"]] = df[[\"lat\", \"lon\"]].astype(float)\n",
    "\n",
    "    # Drop columns\n",
    "    df.drop(columns=[\"place_with_parent_names\", \"lat-lon\"], inplace=True)\n",
    "\n",
    "    # Subset data: apartments, only in Capital Federal, less than $400_000\n",
    "    df = df[df[\"state\"] == \"Capital Federal\"]\n",
    "    df = df[df[\"property_type\"] == \"apartment\"]\n",
    "    df = df[df[\"price_aprox_usd\"] < 400_000]\n",
    "\n",
    "    # Remove outlier: surface_covered_in_m2 btwn 0.1 and 0.9 inclusive\n",
    "    lower, upper = df[\"surface_covered_in_m2\"].quantile([0.1, 0.9])\n",
    "    df = df[df[\"surface_covered_in_m2\"]\n",
    "    .apply(lambda x: True if lower <=x<= upper else False)]\n",
    "\n",
    "    # Remove extra colums\n",
    "    df.drop(columns=\"state\", inplace=True)\n",
    "\n",
    "    # Drop columns with more than 1/2 null values\n",
    "    for column in df.columns:\n",
    "        if (df[column].isnull().sum()) > (len(df[column]) / 2):\n",
    "            df.drop(columns=column, inplace=True)\n",
    "\n",
    "    # Drop high and low cardinality features\n",
    "    for col in df.columns:\n",
    "        if df[col].nunique() < 3 or df[col].nunique() == len(df[col]):\n",
    "            df.drop(columns=col, inplace=True)\n",
    "\n",
    "    # Drop leaky columns\n",
    "    leaks = [\"price\", \"price_aprox_local_currency\",\n",
    "             \"price_per_m2\", \"price_usd_per_m2\"]\n",
    "    df.drop(columns=leaks, inplace=True)\n",
    "\n",
    "    # Drop highly correlated columns\n",
    "    df.drop(columns=[\"surface_total_in_m2\", \"rooms\"], inplace=True)\n",
    "    \n",
    "    return df"
   ]
  },
  {
   "cell_type": "code",
   "execution_count": 3,
   "id": "4a87a328-25da-42f6-99b5-debd3fafb4e5",
   "metadata": {},
   "outputs": [
    {
     "data": {
      "text/plain": [
       "5"
      ]
     },
     "execution_count": 3,
     "metadata": {},
     "output_type": "execute_result"
    }
   ],
   "source": [
    "data = glob(\"data/arg[0-9].csv\")\n",
    "len(data)"
   ]
  },
  {
   "cell_type": "code",
   "execution_count": 4,
   "id": "40700c5e-322c-473e-aa17-72b1bc1caf7c",
   "metadata": {},
   "outputs": [
    {
     "name": "stdout",
     "output_type": "stream",
     "text": [
      "<class 'pandas.core.frame.DataFrame'>\n",
      "RangeIndex: 6582 entries, 0 to 6581\n",
      "Data columns (total 5 columns):\n",
      " #   Column                 Non-Null Count  Dtype  \n",
      "---  ------                 --------------  -----  \n",
      " 0   price_aprox_usd        6582 non-null   float64\n",
      " 1   surface_covered_in_m2  6582 non-null   float64\n",
      " 2   neighborhood           6582 non-null   object \n",
      " 3   lat                    6316 non-null   float64\n",
      " 4   lon                    6316 non-null   float64\n",
      "dtypes: float64(4), object(1)\n",
      "memory usage: 257.2+ KB\n"
     ]
    }
   ],
   "source": [
    "df_ls = [dataWrangle(datum) for datum in data]\n",
    "df = pd.concat(df_ls, ignore_index=True)\n",
    "df.info()"
   ]
  },
  {
   "cell_type": "code",
   "execution_count": 5,
   "id": "6d6b3365-db70-4cdf-83ef-995207a84886",
   "metadata": {},
   "outputs": [
    {
     "data": {
      "image/png": "[encoded data removed]",
      "text/plain": [
       "<Figure size 640x480 with 2 Axes>"
      ]
     },
     "metadata": {},
     "output_type": "display_data"
    }
   ],
   "source": [
    "# Check for multicollinearity --> Heat maps\n",
    "corr = (df.select_dtypes(include=\"number\")\n",
    "        .loc[:, df.select_dtypes(include=\"number\")\n",
    "        .columns != \"price_aprox_usd\"]).corr()\n",
    "sns.heatmap(corr, annot=True);"
   ]
  },
  {
   "cell_type": "code",
   "execution_count": 6,
   "id": "119c2c21-f41c-4637-ad75-2f52c85531a4",
   "metadata": {},
   "outputs": [],
   "source": [
    "# Split\n",
    "target = \"price_aprox_usd\"\n",
    "X_train = df.loc[:, df.columns != target]\n",
    "y_train = df[target]"
   ]
  },
  {
   "cell_type": "code",
   "execution_count": 7,
   "id": "c64e4274-4863-4d49-9b38-15b9a2729413",
   "metadata": {},
   "outputs": [
    {
     "data": {
      "text/plain": [
       "44860.11"
      ]
     },
     "execution_count": 7,
     "metadata": {},
     "output_type": "execute_result"
    }
   ],
   "source": [
    "# Baseline\n",
    "y_pred_baseline = [y_train.mean()] * len(y_train)\n",
    "mae_baseline = mean_absolute_error(y_pred_baseline, y_train)\n",
    "round(mae_baseline, 2)"
   ]
  },
  {
   "cell_type": "code",
   "execution_count": 8,
   "id": "ce9c2a46-4a8e-4850-a321-df1215494b4a",
   "metadata": {},
   "outputs": [
    {
     "data": {
      "text/html": [
       "<style>#sk-container-id-1 {color: black;}#sk-container-id-1 pre{padding: 0;}#sk-container-id-1 div.sk-toggleable {background-color: white;}#sk-container-id-1 label.sk-toggleable__label {cursor: pointer;display: block;width: 100%;margin-bottom: 0;padding: 0.3em;box-sizing: border-box;text-align: center;}#sk-container-id-1 label.sk-toggleable__label-arrow:before {content: \"▸\";float: left;margin-right: 0.25em;color: #696969;}#sk-container-id-1 label.sk-toggleable__label-arrow:hover:before {color: black;}#sk-container-id-1 div.sk-estimator:hover label.sk-toggleable__label-arrow:before {color: black;}#sk-container-id-1 div.sk-toggleable__content {max-height: 0;max-width: 0;overflow: hidden;text-align: left;background-color: #f0f8ff;}#sk-container-id-1 div.sk-toggleable__content pre {margin: 0.2em;color: black;border-radius: 0.25em;background-color: #f0f8ff;}#sk-container-id-1 input.sk-toggleable__control:checked~div.sk-toggleable__content {max-height: 200px;max-width: 100%;overflow: auto;}#sk-container-id-1 input.sk-toggleable__control:checked~label.sk-toggleable__label-arrow:before {content: \"▾\";}#sk-container-id-1 div.sk-estimator input.sk-toggleable__control:checked~label.sk-toggleable__label {background-color: #d4ebff;}#sk-container-id-1 div.sk-label input.sk-toggleable__control:checked~label.sk-toggleable__label {background-color: #d4ebff;}#sk-container-id-1 input.sk-hidden--visually {border: 0;clip: rect(1px 1px 1px 1px);clip: rect(1px, 1px, 1px, 1px);height: 1px;margin: -1px;overflow: hidden;padding: 0;position: absolute;width: 1px;}#sk-container-id-1 div.sk-estimator {font-family: monospace;background-color: #f0f8ff;border: 1px dotted black;border-radius: 0.25em;box-sizing: border-box;margin-bottom: 0.5em;}#sk-container-id-1 div.sk-estimator:hover {background-color: #d4ebff;}#sk-container-id-1 div.sk-parallel-item::after {content: \"\";width: 100%;border-bottom: 1px solid gray;flex-grow: 1;}#sk-container-id-1 div.sk-label:hover label.sk-toggleable__label {background-color: #d4ebff;}#sk-container-id-1 div.sk-serial::before {content: \"\";position: absolute;border-left: 1px solid gray;box-sizing: border-box;top: 0;bottom: 0;left: 50%;z-index: 0;}#sk-container-id-1 div.sk-serial {display: flex;flex-direction: column;align-items: center;background-color: white;padding-right: 0.2em;padding-left: 0.2em;position: relative;}#sk-container-id-1 div.sk-item {position: relative;z-index: 1;}#sk-container-id-1 div.sk-parallel {display: flex;align-items: stretch;justify-content: center;background-color: white;position: relative;}#sk-container-id-1 div.sk-item::before, #sk-container-id-1 div.sk-parallel-item::before {content: \"\";position: absolute;border-left: 1px solid gray;box-sizing: border-box;top: 0;bottom: 0;left: 50%;z-index: -1;}#sk-container-id-1 div.sk-parallel-item {display: flex;flex-direction: column;z-index: 1;position: relative;background-color: white;}#sk-container-id-1 div.sk-parallel-item:first-child::after {align-self: flex-end;width: 50%;}#sk-container-id-1 div.sk-parallel-item:last-child::after {align-self: flex-start;width: 50%;}#sk-container-id-1 div.sk-parallel-item:only-child::after {width: 0;}#sk-container-id-1 div.sk-dashed-wrapped {border: 1px dashed gray;margin: 0 0.4em 0.5em 0.4em;box-sizing: border-box;padding-bottom: 0.4em;background-color: white;}#sk-container-id-1 div.sk-label label {font-family: monospace;font-weight: bold;display: inline-block;line-height: 1.2em;}#sk-container-id-1 div.sk-label-container {text-align: center;}#sk-container-id-1 div.sk-container {/* jupyter's `normalize.less` sets `[hidden] { display: none; }` but bootstrap.min.css set `[hidden] { display: none !important; }` so we also need the `!important` here to be able to override the default hidden behavior on the sphinx rendered scikit-learn.org. See: https://github.com/scikit-learn/scikit-learn/issues/21755 */display: inline-block !important;position: relative;}#sk-container-id-1 div.sk-text-repr-fallback {display: none;}</style><div id=\"sk-container-id-1\" class=\"sk-top-container\"><div class=\"sk-text-repr-fallback\"><pre>Pipeline(steps=[(&#x27;onehotencoder&#x27;,\n",
       "                 OneHotEncoder(cols=[&#x27;neighborhood&#x27;], use_cat_names=True)),\n",
       "                (&#x27;simpleimputer&#x27;, SimpleImputer()), (&#x27;ridge&#x27;, Ridge())])</pre><b>In a Jupyter environment, please rerun this cell to show the HTML representation or trust the notebook. <br />On GitHub, the HTML representation is unable to render, please try loading this page with nbviewer.org.</b></div><div class=\"sk-container\" hidden><div class=\"sk-item sk-dashed-wrapped\"><div class=\"sk-label-container\"><div class=\"sk-label sk-toggleable\"><input class=\"sk-toggleable__control sk-hidden--visually\" id=\"sk-estimator-id-1\" type=\"checkbox\" ><label for=\"sk-estimator-id-1\" class=\"sk-toggleable__label sk-toggleable__label-arrow\">Pipeline</label><div class=\"sk-toggleable__content\"><pre>Pipeline(steps=[(&#x27;onehotencoder&#x27;,\n",
       "                 OneHotEncoder(cols=[&#x27;neighborhood&#x27;], use_cat_names=True)),\n",
       "                (&#x27;simpleimputer&#x27;, SimpleImputer()), (&#x27;ridge&#x27;, Ridge())])</pre></div></div></div><div class=\"sk-serial\"><div class=\"sk-item\"><div class=\"sk-estimator sk-toggleable\"><input class=\"sk-toggleable__control sk-hidden--visually\" id=\"sk-estimator-id-2\" type=\"checkbox\" ><label for=\"sk-estimator-id-2\" class=\"sk-toggleable__label sk-toggleable__label-arrow\">OneHotEncoder</label><div class=\"sk-toggleable__content\"><pre>OneHotEncoder(cols=[&#x27;neighborhood&#x27;], use_cat_names=True)</pre></div></div></div><div class=\"sk-item\"><div class=\"sk-estimator sk-toggleable\"><input class=\"sk-toggleable__control sk-hidden--visually\" id=\"sk-estimator-id-3\" type=\"checkbox\" ><label for=\"sk-estimator-id-3\" class=\"sk-toggleable__label sk-toggleable__label-arrow\">SimpleImputer</label><div class=\"sk-toggleable__content\"><pre>SimpleImputer()</pre></div></div></div><div class=\"sk-item\"><div class=\"sk-estimator sk-toggleable\"><input class=\"sk-toggleable__control sk-hidden--visually\" id=\"sk-estimator-id-4\" type=\"checkbox\" ><label for=\"sk-estimator-id-4\" class=\"sk-toggleable__label sk-toggleable__label-arrow\">Ridge</label><div class=\"sk-toggleable__content\"><pre>Ridge()</pre></div></div></div></div></div></div></div>"
      ],
      "text/plain": [
       "Pipeline(steps=[('onehotencoder',\n",
       "                 OneHotEncoder(cols=['neighborhood'], use_cat_names=True)),\n",
       "                ('simpleimputer', SimpleImputer()), ('ridge', Ridge())])"
      ]
     },
     "execution_count": 8,
     "metadata": {},
     "output_type": "execute_result"
    }
   ],
   "source": [
    "# Automation\n",
    "model = make_pipeline(OneHotEncoder(use_cat_names=True),\n",
    "                      SimpleImputer(), Ridge())\n",
    "model.fit(X_train, y_train)"
   ]
  },
  {
   "cell_type": "code",
   "execution_count": 9,
   "id": "360e7ad6-3c77-466f-b11c-130a537e6336",
   "metadata": {},
   "outputs": [
    {
     "data": {
      "text/plain": [
       "24207.11"
      ]
     },
     "execution_count": 9,
     "metadata": {},
     "output_type": "execute_result"
    }
   ],
   "source": [
    "# Evaluating\n",
    "y_pred_train = model.predict(X_train)\n",
    "mae_training = mean_absolute_error(y_pred_train, y_train)\n",
    "round(mae_training, 2)"
   ]
  },
  {
   "cell_type": "code",
   "execution_count": 10,
   "id": "377448e0-ae9f-4eea-9255-b697288feb6b",
   "metadata": {},
   "outputs": [],
   "source": [
    "# Test your model with new data"
   ]
  },
  {
   "cell_type": "code",
   "execution_count": 11,
   "id": "ba35ad91-bef8-40aa-af7a-79321fd0eb90",
   "metadata": {},
   "outputs": [],
   "source": [
    "# Communicate the results: functions n intercative dashboards\n",
    "    # Function\n",
    "def prediction(area, lat, lon, neighborhood):\n",
    "    \"\"\"Takes input values and returns predictions\"\"\"\n",
    "    df = pd.DataFrame({\n",
    "        \"surface_covered_in_m2\": area,\n",
    "        \"neighborhood\": neighborhood,\n",
    "        \"lat\": lat,\n",
    "        \"lon\": lon,\n",
    "    }, index=[0])\n",
    "    predictn = model.predict(df)\n",
    "\n",
    "    return f\"Price of an apartment USD {predictn}\""
   ]
  },
  {
   "cell_type": "code",
   "execution_count": 12,
   "id": "76a165df-a5b4-4c50-a3a4-adf5ef85b190",
   "metadata": {},
   "outputs": [
    {
     "data": {
      "text/plain": [
       "'Price of an apartment USD [130491.9044703]'"
      ]
     },
     "execution_count": 12,
     "metadata": {},
     "output_type": "execute_result"
    }
   ],
   "source": [
    "prediction(39, -34.553897, -58.451939, \"Belgrano\")"
   ]
  },
  {
   "cell_type": "code",
   "execution_count": 21,
   "id": "94883a94-7230-43e2-891f-5aa4a337c630",
   "metadata": {},
   "outputs": [
    {
     "data": {
      "application/vnd.jupyter.widget-view+json": {
       "model_id": "9280298ec34d46ebbeeb5028f19b5eee",
       "version_major": 2,
       "version_minor": 0
      },
      "text/plain": [
       "interactive(children=(IntSlider(value=53, description='Select Area:', max=101, min=30), FloatSlider(value=0.0,…"
      ]
     },
     "metadata": {},
     "output_type": "display_data"
    }
   ],
   "source": [
    "    # Interactive dashboard\n",
    "\n",
    "# Neighborhood data\n",
    "neighborhoods = X_train['neighborhood'].unique()\n",
    "\n",
    "def update_lat_lon_range(change):\n",
    "        \"\"\"Update the min and max values of the lat and lon sliders\n",
    "        based on the selected neighborhood. User can only select lat\n",
    "        and lon values within the chosen neighborhood\"\"\"\n",
    "        selected_neighborhood = change.new  # get the new value\n",
    "        lat_slider.min = X_train[X_train['neighborhood'] == selected_neighborhood]['lat'].min()\n",
    "        lat_slider.max = X_train[X_train['neighborhood'] == selected_neighborhood]['lat'].max()\n",
    "        lon_slider.min = X_train[X_train['neighborhood'] == selected_neighborhood]['lon'].min()\n",
    "        lon_slider.max = X_train[X_train['neighborhood'] == selected_neighborhood]['lon'].max()\n",
    "\n",
    "\n",
    "neighborhood_dropdown = Dropdown(options=neighborhoods, value=neighborhoods[0], description='Select Neighborhood:')\n",
    "lat_slider = FloatSlider(value=X_train[X_train['neighborhood'] == neighborhoods[0]]['lat'].mean(), step=0.1, description='Select Latitude:')\n",
    "lon_slider = FloatSlider(value=X_train[X_train['neighborhood'] == neighborhoods[0]]['lon'].mean(), step=0.1, description='Select Longitude:')\n",
    "\n",
    "# Observe changes in the selected neighborhood and update lat and lon sliders accordingly\n",
    "neighborhood_dropdown.observe(update_lat_lon_range, names='value')\n",
    "\n",
    "\n",
    "interact(\n",
    "    prediction,\n",
    "    area=IntSlider(\n",
    "        value=X_train['surface_covered_in_m2'].mean(),\n",
    "        min=X_train['surface_covered_in_m2'].min(),\n",
    "        max=X_train['surface_covered_in_m2'].max(),\n",
    "        step=1,\n",
    "        description='Select Area:',\n",
    "        readout_format='d'\n",
    "    ),\n",
    "    lat=lat_slider,\n",
    "    lon=lon_slider,\n",
    "    neighborhood=neighborhood_dropdown\n",
    ");\n"
   ]
  }
 ],
 "metadata": {
  "kernelspec": {
   "display_name": "Python 3 (ipykernel)",
   "language": "python",
   "name": "python3"
  },
  "language_info": {
   "codemirror_mode": {
    "name": "ipython",
    "version": 3
   },
   "file_extension": ".py",
   "mimetype": "text/x-python",
   "name": "python",
   "nbconvert_exporter": "python",
   "pygments_lexer": "ipython3",
   "version": "3.10.12"
  }
 },
 "nbformat": 4,
 "nbformat_minor": 5
}
